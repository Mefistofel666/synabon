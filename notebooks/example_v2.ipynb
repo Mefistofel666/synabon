{
 "cells": [
  {
   "cell_type": "code",
   "execution_count": 26,
   "id": "b0f0827a-8958-4de9-a672-769cef4a9dd0",
   "metadata": {},
   "outputs": [],
   "source": [
    "import numpy as np\n",
    "import pandas as pd\n",
    "import seaborn as sns\n",
    "\n",
    "import warnings \n",
    "warnings.filterwarnings('ignore')"
   ]
  },
  {
   "cell_type": "code",
   "execution_count": 76,
   "id": "49eff4ac-08ca-49d9-aa1a-499603746b45",
   "metadata": {},
   "outputs": [],
   "source": [
    "import uuid\n",
    "from datetime import datetime, timedelta\n",
    "from random import randrange\n",
    "\n",
    "\n",
    "class UserGenerator:\n",
    "    def __init__(\n",
    "        self,\n",
    "        n_users: int,\n",
    "        n_interactions: int,\n",
    "        start_dt: datetime,\n",
    "        end_dt: datetime,\n",
    "    ):\n",
    "        self.n_users = n_users\n",
    "        self.n_interactions = n_interactions\n",
    "        self.start_dt = start_dt\n",
    "        self.end_dt = end_dt\n",
    "        \n",
    "        self.balance = np.random.exponential(scale=100, size=self.n_users)\n",
    "        self.target_balance = np.array(\n",
    "            [np.random.normal(b, 10) for b in self.balance]\n",
    "        )\n",
    "\n",
    "    def get_interactions(self, balance, target_balance):\n",
    "        tmp = np.random.uniform(-balance/n_interactions, balance/n_interactions, size=n_interactions)\n",
    "        tmp = tmp / np.sum(tmp, axis=0) *  (target_balance - balance)\n",
    "        return tmp\n",
    "\n",
    "    @staticmethod\n",
    "    def get_random_date(start: datetime, end: datetime) -> datetime:\n",
    "        delta = end - start\n",
    "        int_delta = (delta.days * 24 * 60 * 60) + delta.seconds\n",
    "        random_second = randrange(int_delta)\n",
    "        return start + timedelta(seconds=random_second)\n",
    "\n",
    "    \n",
    "    def generate_data(self):\n",
    "        columns = [\"user_id\", \"user_balance\", \"interaction\", \"date\", \"type\"]\n",
    "        data = []\n",
    "        \n",
    "        for i in range(self.n_users):\n",
    "            user_id = uuid.uuid4()\n",
    "            user_balance = self.balance[i]\n",
    "            user_target_balance = self.target_balance[i]\n",
    "                        \n",
    "            user_interactions = self.get_interactions(user_balance, user_target_balance)\n",
    "            row = [user_id, user_balance, None, self.start_dt, \"registration\"]\n",
    "            data.append(row)\n",
    "            \n",
    "            for j in range(1, self.n_interactions):\n",
    "                date = self.get_random_date(self.start_dt, self.end_dt)\n",
    "                interaction = user_interactions[j]\n",
    "                user_balance += interaction\n",
    "                row = [user_id, user_balance, interaction, date, \"transaction\"]\n",
    "                data.append(row)\n",
    "        df = pd.DataFrame(data, columns=columns).sort_values(by=\"date\")\n",
    "        return df\n",
    "                    "
   ]
  },
  {
   "cell_type": "code",
   "execution_count": 77,
   "id": "72877cc0-f80e-4070-8f1f-2c821bd371a5",
   "metadata": {},
   "outputs": [],
   "source": [
    "n_users = 100\n",
    "n_interactions = 10\n",
    "start_dt = datetime.strptime(\"2023/01/01\", \"%Y/%m/%d\")\n",
    "end_dt = datetime.strptime(\"2023/02/01\", \"%Y/%m/%d\")\n"
   ]
  },
  {
   "cell_type": "code",
   "execution_count": 115,
   "id": "42706a76-9980-4f43-a5b7-c652e844e63c",
   "metadata": {},
   "outputs": [],
   "source": [
    "ug = UserGenerator(n_users, n_interactions, start_dt, end_dt)"
   ]
  },
  {
   "cell_type": "code",
   "execution_count": 116,
   "id": "d5652078-0387-4e03-9dc3-b386ee3409fb",
   "metadata": {},
   "outputs": [],
   "source": [
    "df = ug.generate_data()"
   ]
  },
  {
   "cell_type": "code",
   "execution_count": 117,
   "id": "0b612f47-9ee1-4f55-82d5-9736b085be63",
   "metadata": {},
   "outputs": [
    {
     "data": {
      "text/html": [
       "<div>\n",
       "<style scoped>\n",
       "    .dataframe tbody tr th:only-of-type {\n",
       "        vertical-align: middle;\n",
       "    }\n",
       "\n",
       "    .dataframe tbody tr th {\n",
       "        vertical-align: top;\n",
       "    }\n",
       "\n",
       "    .dataframe thead th {\n",
       "        text-align: right;\n",
       "    }\n",
       "</style>\n",
       "<table border=\"1\" class=\"dataframe\">\n",
       "  <thead>\n",
       "    <tr style=\"text-align: right;\">\n",
       "      <th></th>\n",
       "      <th>user_id</th>\n",
       "      <th>user_balance</th>\n",
       "      <th>interaction</th>\n",
       "      <th>date</th>\n",
       "      <th>type</th>\n",
       "    </tr>\n",
       "  </thead>\n",
       "  <tbody>\n",
       "    <tr>\n",
       "      <th>0</th>\n",
       "      <td>996b4630-4578-4699-b57c-56bdb2d3b993</td>\n",
       "      <td>11.848673</td>\n",
       "      <td>NaN</td>\n",
       "      <td>2023-01-01</td>\n",
       "      <td>registration</td>\n",
       "    </tr>\n",
       "    <tr>\n",
       "      <th>460</th>\n",
       "      <td>2c2342b5-dfd9-45bc-858d-ffc5e1afd02f</td>\n",
       "      <td>4.788190</td>\n",
       "      <td>NaN</td>\n",
       "      <td>2023-01-01</td>\n",
       "      <td>registration</td>\n",
       "    </tr>\n",
       "    <tr>\n",
       "      <th>670</th>\n",
       "      <td>274dce22-dea5-496d-a45f-f8894049f6be</td>\n",
       "      <td>34.500012</td>\n",
       "      <td>NaN</td>\n",
       "      <td>2023-01-01</td>\n",
       "      <td>registration</td>\n",
       "    </tr>\n",
       "    <tr>\n",
       "      <th>800</th>\n",
       "      <td>31175e3d-cee7-434a-b685-b3c4a28eb084</td>\n",
       "      <td>278.098986</td>\n",
       "      <td>NaN</td>\n",
       "      <td>2023-01-01</td>\n",
       "      <td>registration</td>\n",
       "    </tr>\n",
       "    <tr>\n",
       "      <th>550</th>\n",
       "      <td>fa4f88d7-0393-4424-be28-3a7b43966c43</td>\n",
       "      <td>44.036173</td>\n",
       "      <td>NaN</td>\n",
       "      <td>2023-01-01</td>\n",
       "      <td>registration</td>\n",
       "    </tr>\n",
       "    <tr>\n",
       "      <th>870</th>\n",
       "      <td>a832ffa8-5cf9-48e4-b252-30e7ac9b876b</td>\n",
       "      <td>214.475533</td>\n",
       "      <td>NaN</td>\n",
       "      <td>2023-01-01</td>\n",
       "      <td>registration</td>\n",
       "    </tr>\n",
       "    <tr>\n",
       "      <th>450</th>\n",
       "      <td>141120dc-4537-4350-a89e-290613330aad</td>\n",
       "      <td>27.550275</td>\n",
       "      <td>NaN</td>\n",
       "      <td>2023-01-01</td>\n",
       "      <td>registration</td>\n",
       "    </tr>\n",
       "    <tr>\n",
       "      <th>70</th>\n",
       "      <td>4316a456-ec06-49c4-9248-821338e145c4</td>\n",
       "      <td>18.448764</td>\n",
       "      <td>NaN</td>\n",
       "      <td>2023-01-01</td>\n",
       "      <td>registration</td>\n",
       "    </tr>\n",
       "    <tr>\n",
       "      <th>260</th>\n",
       "      <td>16392b30-3057-407a-bdda-80d7cdbc9ab6</td>\n",
       "      <td>180.058818</td>\n",
       "      <td>NaN</td>\n",
       "      <td>2023-01-01</td>\n",
       "      <td>registration</td>\n",
       "    </tr>\n",
       "    <tr>\n",
       "      <th>130</th>\n",
       "      <td>024fe55b-33cd-48c9-ba90-64821ddea891</td>\n",
       "      <td>239.622935</td>\n",
       "      <td>NaN</td>\n",
       "      <td>2023-01-01</td>\n",
       "      <td>registration</td>\n",
       "    </tr>\n",
       "  </tbody>\n",
       "</table>\n",
       "</div>"
      ],
      "text/plain": [
       "                                  user_id  user_balance  interaction  \\\n",
       "0    996b4630-4578-4699-b57c-56bdb2d3b993     11.848673          NaN   \n",
       "460  2c2342b5-dfd9-45bc-858d-ffc5e1afd02f      4.788190          NaN   \n",
       "670  274dce22-dea5-496d-a45f-f8894049f6be     34.500012          NaN   \n",
       "800  31175e3d-cee7-434a-b685-b3c4a28eb084    278.098986          NaN   \n",
       "550  fa4f88d7-0393-4424-be28-3a7b43966c43     44.036173          NaN   \n",
       "870  a832ffa8-5cf9-48e4-b252-30e7ac9b876b    214.475533          NaN   \n",
       "450  141120dc-4537-4350-a89e-290613330aad     27.550275          NaN   \n",
       "70   4316a456-ec06-49c4-9248-821338e145c4     18.448764          NaN   \n",
       "260  16392b30-3057-407a-bdda-80d7cdbc9ab6    180.058818          NaN   \n",
       "130  024fe55b-33cd-48c9-ba90-64821ddea891    239.622935          NaN   \n",
       "\n",
       "          date          type  \n",
       "0   2023-01-01  registration  \n",
       "460 2023-01-01  registration  \n",
       "670 2023-01-01  registration  \n",
       "800 2023-01-01  registration  \n",
       "550 2023-01-01  registration  \n",
       "870 2023-01-01  registration  \n",
       "450 2023-01-01  registration  \n",
       "70  2023-01-01  registration  \n",
       "260 2023-01-01  registration  \n",
       "130 2023-01-01  registration  "
      ]
     },
     "execution_count": 117,
     "metadata": {},
     "output_type": "execute_result"
    }
   ],
   "source": [
    "df.head(10)"
   ]
  },
  {
   "cell_type": "code",
   "execution_count": 118,
   "id": "0bde1059-0ed9-4f4b-96e7-c19220279ed3",
   "metadata": {},
   "outputs": [
    {
     "data": {
      "text/html": [
       "<div>\n",
       "<style scoped>\n",
       "    .dataframe tbody tr th:only-of-type {\n",
       "        vertical-align: middle;\n",
       "    }\n",
       "\n",
       "    .dataframe tbody tr th {\n",
       "        vertical-align: top;\n",
       "    }\n",
       "\n",
       "    .dataframe thead th {\n",
       "        text-align: right;\n",
       "    }\n",
       "</style>\n",
       "<table border=\"1\" class=\"dataframe\">\n",
       "  <thead>\n",
       "    <tr style=\"text-align: right;\">\n",
       "      <th></th>\n",
       "      <th>user_id</th>\n",
       "      <th>user_balance</th>\n",
       "      <th>interaction</th>\n",
       "      <th>date</th>\n",
       "      <th>type</th>\n",
       "    </tr>\n",
       "  </thead>\n",
       "  <tbody>\n",
       "    <tr>\n",
       "      <th>0</th>\n",
       "      <td>996b4630-4578-4699-b57c-56bdb2d3b993</td>\n",
       "      <td>11.848673</td>\n",
       "      <td>NaN</td>\n",
       "      <td>2023-01-01</td>\n",
       "      <td>registration</td>\n",
       "    </tr>\n",
       "    <tr>\n",
       "      <th>460</th>\n",
       "      <td>2c2342b5-dfd9-45bc-858d-ffc5e1afd02f</td>\n",
       "      <td>4.788190</td>\n",
       "      <td>NaN</td>\n",
       "      <td>2023-01-01</td>\n",
       "      <td>registration</td>\n",
       "    </tr>\n",
       "    <tr>\n",
       "      <th>670</th>\n",
       "      <td>274dce22-dea5-496d-a45f-f8894049f6be</td>\n",
       "      <td>34.500012</td>\n",
       "      <td>NaN</td>\n",
       "      <td>2023-01-01</td>\n",
       "      <td>registration</td>\n",
       "    </tr>\n",
       "    <tr>\n",
       "      <th>800</th>\n",
       "      <td>31175e3d-cee7-434a-b685-b3c4a28eb084</td>\n",
       "      <td>278.098986</td>\n",
       "      <td>NaN</td>\n",
       "      <td>2023-01-01</td>\n",
       "      <td>registration</td>\n",
       "    </tr>\n",
       "    <tr>\n",
       "      <th>550</th>\n",
       "      <td>fa4f88d7-0393-4424-be28-3a7b43966c43</td>\n",
       "      <td>44.036173</td>\n",
       "      <td>NaN</td>\n",
       "      <td>2023-01-01</td>\n",
       "      <td>registration</td>\n",
       "    </tr>\n",
       "  </tbody>\n",
       "</table>\n",
       "</div>"
      ],
      "text/plain": [
       "                                  user_id  user_balance  interaction  \\\n",
       "0    996b4630-4578-4699-b57c-56bdb2d3b993     11.848673          NaN   \n",
       "460  2c2342b5-dfd9-45bc-858d-ffc5e1afd02f      4.788190          NaN   \n",
       "670  274dce22-dea5-496d-a45f-f8894049f6be     34.500012          NaN   \n",
       "800  31175e3d-cee7-434a-b685-b3c4a28eb084    278.098986          NaN   \n",
       "550  fa4f88d7-0393-4424-be28-3a7b43966c43     44.036173          NaN   \n",
       "\n",
       "          date          type  \n",
       "0   2023-01-01  registration  \n",
       "460 2023-01-01  registration  \n",
       "670 2023-01-01  registration  \n",
       "800 2023-01-01  registration  \n",
       "550 2023-01-01  registration  "
      ]
     },
     "execution_count": 118,
     "metadata": {},
     "output_type": "execute_result"
    }
   ],
   "source": [
    "user_id = df[\"user_id\"].unique()[0]\n",
    "mask = (df[\"type\"] == \"registration\")\n",
    "user_df = df[mask]\n",
    "user_df.head(5)"
   ]
  },
  {
   "cell_type": "code",
   "execution_count": 119,
   "id": "2178f8cb-da31-4a4e-819c-1f05424132f3",
   "metadata": {},
   "outputs": [
    {
     "data": {
      "image/png": "[encoded data removed]",
      "text/plain": [
       "<Figure size 640x480 with 1 Axes>"
      ]
     },
     "metadata": {},
     "output_type": "display_data"
    }
   ],
   "source": [
    "g = sns.kdeplot(x=\"user_balance\", data=user_df)\n",
    "tmp = g.set_xticklabels(g.get_xticklabels(), rotation=30)"
   ]
  },
  {
   "cell_type": "code",
   "execution_count": 120,
   "id": "8993d345-b866-4380-b6f3-f40e4010a85d",
   "metadata": {},
   "outputs": [],
   "source": [
    "df_last = df.sort_values(by=\"date\").groupby(by=\"user_id\").tail(1)"
   ]
  },
  {
   "cell_type": "code",
   "execution_count": 121,
   "id": "94fda180-f1d9-4d35-8bbf-e4b2774c478f",
   "metadata": {},
   "outputs": [
    {
     "data": {
      "text/html": [
       "<div>\n",
       "<style scoped>\n",
       "    .dataframe tbody tr th:only-of-type {\n",
       "        vertical-align: middle;\n",
       "    }\n",
       "\n",
       "    .dataframe tbody tr th {\n",
       "        vertical-align: top;\n",
       "    }\n",
       "\n",
       "    .dataframe thead th {\n",
       "        text-align: right;\n",
       "    }\n",
       "</style>\n",
       "<table border=\"1\" class=\"dataframe\">\n",
       "  <thead>\n",
       "    <tr style=\"text-align: right;\">\n",
       "      <th></th>\n",
       "      <th>user_id</th>\n",
       "      <th>user_balance</th>\n",
       "      <th>interaction</th>\n",
       "      <th>date</th>\n",
       "      <th>type</th>\n",
       "    </tr>\n",
       "  </thead>\n",
       "  <tbody>\n",
       "    <tr>\n",
       "      <th>322</th>\n",
       "      <td>f75f28d5-2d87-4781-a9cb-883573ce67f1</td>\n",
       "      <td>3.317042</td>\n",
       "      <td>-4.923364</td>\n",
       "      <td>2023-01-15 09:48:05</td>\n",
       "      <td>transaction</td>\n",
       "    </tr>\n",
       "    <tr>\n",
       "      <th>765</th>\n",
       "      <td>564a2eaa-3e46-4350-8376-89bbe1f37ebd</td>\n",
       "      <td>124.779161</td>\n",
       "      <td>0.226537</td>\n",
       "      <td>2023-01-18 04:54:34</td>\n",
       "      <td>transaction</td>\n",
       "    </tr>\n",
       "    <tr>\n",
       "      <th>748</th>\n",
       "      <td>53d9ad53-08df-4699-8439-606345611afe</td>\n",
       "      <td>35.044661</td>\n",
       "      <td>-0.102130</td>\n",
       "      <td>2023-01-19 01:14:45</td>\n",
       "      <td>transaction</td>\n",
       "    </tr>\n",
       "    <tr>\n",
       "      <th>845</th>\n",
       "      <td>bf908187-934e-4e4c-86f6-7dce5a31f086</td>\n",
       "      <td>32.526821</td>\n",
       "      <td>1.579173</td>\n",
       "      <td>2023-01-20 01:29:11</td>\n",
       "      <td>transaction</td>\n",
       "    </tr>\n",
       "    <tr>\n",
       "      <th>606</th>\n",
       "      <td>02ebb3ad-9825-4089-a237-bde01be1f4c4</td>\n",
       "      <td>-214.868341</td>\n",
       "      <td>35.756126</td>\n",
       "      <td>2023-01-20 17:03:28</td>\n",
       "      <td>transaction</td>\n",
       "    </tr>\n",
       "  </tbody>\n",
       "</table>\n",
       "</div>"
      ],
      "text/plain": [
       "                                  user_id  user_balance  interaction  \\\n",
       "322  f75f28d5-2d87-4781-a9cb-883573ce67f1      3.317042    -4.923364   \n",
       "765  564a2eaa-3e46-4350-8376-89bbe1f37ebd    124.779161     0.226537   \n",
       "748  53d9ad53-08df-4699-8439-606345611afe     35.044661    -0.102130   \n",
       "845  bf908187-934e-4e4c-86f6-7dce5a31f086     32.526821     1.579173   \n",
       "606  02ebb3ad-9825-4089-a237-bde01be1f4c4   -214.868341    35.756126   \n",
       "\n",
       "                   date         type  \n",
       "322 2023-01-15 09:48:05  transaction  \n",
       "765 2023-01-18 04:54:34  transaction  \n",
       "748 2023-01-19 01:14:45  transaction  \n",
       "845 2023-01-20 01:29:11  transaction  \n",
       "606 2023-01-20 17:03:28  transaction  "
      ]
     },
     "execution_count": 121,
     "metadata": {},
     "output_type": "execute_result"
    }
   ],
   "source": [
    "df_last.head()"
   ]
  },
  {
   "cell_type": "code",
   "execution_count": 122,
   "id": "ed415625-0c56-4d5f-b790-2d9446f3d0fd",
   "metadata": {},
   "outputs": [
    {
     "data": {
      "text/plain": [
       "user_id         100\n",
       "user_balance    100\n",
       "interaction     100\n",
       "date            100\n",
       "type              1\n",
       "dtype: int64"
      ]
     },
     "execution_count": 122,
     "metadata": {},
     "output_type": "execute_result"
    }
   ],
   "source": [
    "df_last.nunique()"
   ]
  },
  {
   "cell_type": "code",
   "execution_count": 123,
   "id": "a28a3b3b-9be2-4891-92e2-7cbdaf0cc1a8",
   "metadata": {},
   "outputs": [
    {
     "data": {
      "text/plain": [
       "(100, 5)"
      ]
     },
     "execution_count": 123,
     "metadata": {},
     "output_type": "execute_result"
    }
   ],
   "source": [
    "df_last.shape"
   ]
  },
  {
   "cell_type": "code",
   "execution_count": 124,
   "id": "54a32b5d-2efe-4031-b57e-ab2082b02d7f",
   "metadata": {},
   "outputs": [
    {
     "data": {
      "image/png": "[encoded data removed]",
      "text/plain": [
       "<Figure size 640x480 with 1 Axes>"
      ]
     },
     "metadata": {},
     "output_type": "display_data"
    }
   ],
   "source": [
    "g = sns.kdeplot(x=\"user_balance\", data=user_df)\n",
    "\n",
    "g = sns.kdeplot(x=\"user_balance\", data=df_last)\n",
    "tmp = g.set_xticklabels(g.get_xticklabels(), rotation=30)"
   ]
  },
  {
   "cell_type": "code",
   "execution_count": 126,
   "id": "11bb325a-19db-4890-857e-fd3f2f623812",
   "metadata": {},
   "outputs": [
    {
     "name": "stdout",
     "output_type": "stream",
     "text": [
      "MEAN Before: 119.31460118880304\n",
      "MEAN After: 120.55483790442618\n"
     ]
    }
   ],
   "source": [
    "print(f\"MEAN Before: {np.mean(user_df['user_balance'])}\")\n",
    "print(f\"MEAN After: {np.mean(df_last['user_balance'])}\")\n"
   ]
  },
  {
   "cell_type": "code",
   "execution_count": null,
   "id": "948fbe28-3b57-426b-905c-c12e4d06aea0",
   "metadata": {},
   "outputs": [],
   "source": []
  },
  {
   "cell_type": "code",
   "execution_count": null,
   "id": "c7d68f71-1414-4f60-8138-c9cdf759beef",
   "metadata": {},
   "outputs": [],
   "source": []
  },
  {
   "cell_type": "code",
   "execution_count": null,
   "id": "80f59ab9-821e-4276-82ff-4f6183383c2e",
   "metadata": {},
   "outputs": [],
   "source": []
  },
  {
   "cell_type": "code",
   "execution_count": null,
   "id": "21b94022-b700-4528-8fe9-e18019c9693f",
   "metadata": {},
   "outputs": [],
   "source": [
    "есть баланс B, юзер должен совершит N сделок. В итоге у него должно быть B_new денег на балансе.\n",
    "Как выбирать сколько денег получит человек в той или иной сделке?\n",
    "составим массив разностей [d0, d1, d2, ..., dN].\n",
    "сначала сгенерим число из равномерного распределения [-d_k, d_k] forall k.\n"
   ]
  },
  {
   "cell_type": "code",
   "execution_count": 24,
   "id": "79e1153a-dd6a-4294-abf9-d70e43fb7260",
   "metadata": {},
   "outputs": [],
   "source": [
    "def gen_interactions(n_interactions, balance, target_balance):\n",
    "    tmp = np.random.uniform(-totals, totals, size=n_interactions)\n",
    "    tmp = tmp / np.sum(tmp, axis=0) *  (target_balance - balance)\n",
    "    return tmp\n",
    "    "
   ]
  },
  {
   "cell_type": "code",
   "execution_count": 30,
   "id": "7f1eb256-1727-42f8-884f-7ccb6fe4c2d0",
   "metadata": {},
   "outputs": [
    {
     "name": "stdout",
     "output_type": "stream",
     "text": [
      "[-13.51306057   8.61852764   6.76310243  13.42868175  -6.88037264\n",
      "  -7.62779631  -3.01491506  -5.63973697   1.4980721    2.36749762]\n",
      "sum a = -4.000000000000002\n"
     ]
    }
   ],
   "source": [
    "a = gen_interactions(10, 10, 6)\n",
    "print(a)\n",
    "print(f\"sum a = {a.sum()}\")"
   ]
  },
  {
   "cell_type": "code",
   "execution_count": null,
   "id": "4a3abdea-308b-43cc-b966-6107b6cc8e93",
   "metadata": {},
   "outputs": [],
   "source": []
  },
  {
   "cell_type": "code",
   "execution_count": null,
   "id": "53144684-3ef9-44b0-86df-acacb31630f4",
   "metadata": {},
   "outputs": [],
   "source": []
  },
  {
   "cell_type": "code",
   "execution_count": null,
   "id": "90dfa012-3f3d-4dda-b1de-6be5857501ce",
   "metadata": {},
   "outputs": [],
   "source": []
  },
  {
   "cell_type": "code",
   "execution_count": null,
   "id": "4e660ba2-1102-4b59-aa30-dd0a324f1ebe",
   "metadata": {},
   "outputs": [],
   "source": []
  }
 ],
 "metadata": {
  "kernelspec": {
   "display_name": "Python 3 (ipykernel)",
   "language": "python",
   "name": "python3"
  },
  "language_info": {
   "codemirror_mode": {
    "name": "ipython",
    "version": 3
   },
   "file_extension": ".py",
   "mimetype": "text/x-python",
   "name": "python",
   "nbconvert_exporter": "python",
   "pygments_lexer": "ipython3",
   "version": "3.11.5"
  }
 },
 "nbformat": 4,
 "nbformat_minor": 5
}
